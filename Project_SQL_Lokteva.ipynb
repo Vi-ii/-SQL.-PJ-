{
 "cells": [
  {
   "cell_type": "markdown",
   "id": "42289889-bd57-434e-9637-d3e354756316",
   "metadata": {
    "id": "42289889-bd57-434e-9637-d3e354756316"
   },
   "source": [
    "<center> <img src = https://raw.githubusercontent.com/AndreyRysistov/DatasetsForPandas/main/hh%20label.jpg alt=\"drawing\" style=\"width:400px;\">"
   ]
  },
  {
   "cell_type": "markdown",
   "id": "829cb75b-f14e-4ba8-9195-7ba929a7d656",
   "metadata": {
    "id": "829cb75b-f14e-4ba8-9195-7ba929a7d656",
    "tags": []
   },
   "source": [
    "# Проект «Анализ вакансий из HeadHunter»\n",
    "   "
   ]
  },
  {
   "cell_type": "code",
   "execution_count": 1,
   "id": "dccfde33-2452-43fb-a8a5-5c6ebc02a71d",
   "metadata": {
    "id": "dccfde33-2452-43fb-a8a5-5c6ebc02a71d"
   },
   "outputs": [],
   "source": [
    "import pandas as pd\n",
    "import psycopg2"
   ]
  },
  {
   "cell_type": "code",
   "execution_count": 5,
   "id": "oVKH4ehvf8Ay",
   "metadata": {
    "id": "oVKH4ehvf8Ay"
   },
   "outputs": [],
   "source": [
    "# вставьте сюда параметры подключения из юнита 1. Работа с базой данных из Python\n",
    "DBNAME = 'project_sql'\n",
    "USER = 'skillfactory'\n",
    "PASSWORD = 'cCkxxLVrDE8EbvjueeMedPKt'\n",
    "HOST = '84.201.134.129'\n",
    "PORT = 5432"
   ]
  },
  {
   "cell_type": "code",
   "execution_count": 6,
   "id": "G4X_q8KBf7SF",
   "metadata": {
    "id": "G4X_q8KBf7SF"
   },
   "outputs": [],
   "source": [
    "connection = psycopg2.connect(\n",
    "    dbname=DBNAME,\n",
    "    user=USER,\n",
    "    host=HOST,\n",
    "    password=PASSWORD,\n",
    "    port=PORT\n",
    ")"
   ]
  },
  {
   "cell_type": "code",
   "execution_count": 8,
   "id": "506f1767-b656-44ca-afb9-e3af5a49c8cb",
   "metadata": {},
   "outputs": [
    {
     "name": "stdout",
     "output_type": "stream",
     "text": [
      "               table_name\n",
      "0                    test\n",
      "1   stored_procedure_prac\n",
      "2                 columns\n",
      "3               contracts\n",
      "4                  t_tab1\n",
      "5                  t_tab2\n",
      "6              operations\n",
      "7                 table_1\n",
      "8            films_recent\n",
      "9                  cities\n",
      "10                doctors\n",
      "11              employers\n",
      "12   employers_industries\n",
      "13             industries\n",
      "14              vacancies\n",
      "15                  areas\n",
      "16           ds_vacancies\n"
     ]
    },
    {
     "name": "stderr",
     "output_type": "stream",
     "text": [
      "C:\\Users\\User\\AppData\\Local\\Temp\\ipykernel_15284\\3101962382.py:6: UserWarning: pandas only supports SQLAlchemy connectable (engine/connection) or database string URI or sqlite3 DBAPI2 connection. Other DBAPI2 objects are not tested. Please consider using SQLAlchemy.\n",
      "  df_tables = pd.read_sql(query_tables, connection)\n"
     ]
    }
   ],
   "source": [
    "# Вывела названия всех таблиц для удобства работы\n",
    "query_tables = '''\n",
    "SELECT table_name FROM information_schema.tables \n",
    "WHERE table_schema = 'public';\n",
    "'''\n",
    "df_tables = pd.read_sql(query_tables, connection)\n",
    "print(df_tables)"
   ]
  },
  {
   "cell_type": "markdown",
   "id": "0dc6476b-7a00-44f1-ac93-6e3baed33a29",
   "metadata": {
    "id": "0dc6476b-7a00-44f1-ac93-6e3baed33a29"
   },
   "source": [
    "## 3. Предварительный анализ данных"
   ]
  },
  {
   "cell_type": "markdown",
   "id": "889782b6-8d1c-410e-8920-e57f27917c64",
   "metadata": {
    "id": "889782b6-8d1c-410e-8920-e57f27917c64"
   },
   "source": [
    "1. Напишите запрос, который посчитает количество вакансий в базе (вакансии находятся в таблице `vacancies`)."
   ]
  },
  {
   "cell_type": "code",
   "execution_count": 9,
   "id": "bc39e68e-ed02-4ee2-9235-7258a2f867a8",
   "metadata": {
    "id": "bc39e68e-ed02-4ee2-9235-7258a2f867a8"
   },
   "outputs": [],
   "source": [
    "# текст запроса\n",
    "query_3_1 = f'''\n",
    "SELECT COUNT(*) AS vacancy_count FROM vacancies;\n",
    "'''"
   ]
  },
  {
   "cell_type": "code",
   "execution_count": 10,
   "id": "7mAwtsk4hEHY",
   "metadata": {
    "id": "7mAwtsk4hEHY"
   },
   "outputs": [
    {
     "name": "stdout",
     "output_type": "stream",
     "text": [
      "   vacancy_count\n",
      "0          49197\n"
     ]
    },
    {
     "name": "stderr",
     "output_type": "stream",
     "text": [
      "C:\\Users\\User\\AppData\\Local\\Temp\\ipykernel_15284\\3958216174.py:2: UserWarning: pandas only supports SQLAlchemy connectable (engine/connection) or database string URI or sqlite3 DBAPI2 connection. Other DBAPI2 objects are not tested. Please consider using SQLAlchemy.\n",
      "  df = pd.read_sql(query_3_1, connection)\n"
     ]
    }
   ],
   "source": [
    "# результат запроса\n",
    "df = pd.read_sql(query_3_1, connection)\n",
    "\n",
    "# Выводим результат\n",
    "print(df)"
   ]
  },
  {
   "cell_type": "markdown",
   "id": "b583485d-1f9e-494e-ada4-80ffff7c53d6",
   "metadata": {
    "id": "b583485d-1f9e-494e-ada4-80ffff7c53d6"
   },
   "source": [
    "2. Напишите запрос, который посчитает количество работодателей (таблица `employers`)."
   ]
  },
  {
   "cell_type": "code",
   "execution_count": 13,
   "id": "5408c52c-3407-4a63-b25b-1aafa2322d28",
   "metadata": {
    "id": "5408c52c-3407-4a63-b25b-1aafa2322d28"
   },
   "outputs": [],
   "source": [
    "# текст запроса\n",
    "query_3_2 = f'''\n",
    "SELECT COUNT(*) AS employer_count FROM employers;\n",
    "'''"
   ]
  },
  {
   "cell_type": "code",
   "execution_count": 14,
   "id": "jVL4eshKhdqc",
   "metadata": {
    "id": "jVL4eshKhdqc"
   },
   "outputs": [
    {
     "name": "stdout",
     "output_type": "stream",
     "text": [
      "   employer_count\n",
      "0           23501\n"
     ]
    },
    {
     "name": "stderr",
     "output_type": "stream",
     "text": [
      "C:\\Users\\User\\AppData\\Local\\Temp\\ipykernel_15284\\3038429694.py:2: UserWarning: pandas only supports SQLAlchemy connectable (engine/connection) or database string URI or sqlite3 DBAPI2 connection. Other DBAPI2 objects are not tested. Please consider using SQLAlchemy.\n",
      "  df = pd.read_sql(query_3_2, connection)\n"
     ]
    }
   ],
   "source": [
    "# результат запроса\n",
    "df = pd.read_sql(query_3_2, connection)\n",
    "\n",
    "# Выводим результат\n",
    "print(df)"
   ]
  },
  {
   "cell_type": "markdown",
   "id": "a2bfff1f-c975-4bf6-84be-2185d79dcb76",
   "metadata": {
    "id": "a2bfff1f-c975-4bf6-84be-2185d79dcb76"
   },
   "source": [
    "3. Посчитайте с помощью запроса количество регионов (таблица `areas`)."
   ]
  },
  {
   "cell_type": "code",
   "execution_count": 15,
   "id": "1m8QJwBYhey6",
   "metadata": {
    "id": "1m8QJwBYhey6"
   },
   "outputs": [],
   "source": [
    "# текст запроса\n",
    "query_3_3 = f'''\n",
    "SELECT COUNT(*) AS area_count FROM areas;\n",
    "'''"
   ]
  },
  {
   "cell_type": "code",
   "execution_count": 16,
   "id": "EZsn9tlfhe7f",
   "metadata": {
    "id": "EZsn9tlfhe7f"
   },
   "outputs": [
    {
     "name": "stdout",
     "output_type": "stream",
     "text": [
      "   area_count\n",
      "0        1362\n"
     ]
    },
    {
     "name": "stderr",
     "output_type": "stream",
     "text": [
      "C:\\Users\\User\\AppData\\Local\\Temp\\ipykernel_15284\\3245598461.py:2: UserWarning: pandas only supports SQLAlchemy connectable (engine/connection) or database string URI or sqlite3 DBAPI2 connection. Other DBAPI2 objects are not tested. Please consider using SQLAlchemy.\n",
      "  df = pd.read_sql(query_3_3, connection)\n"
     ]
    }
   ],
   "source": [
    "# результат запроса\n",
    "df = pd.read_sql(query_3_3, connection)\n",
    "\n",
    "# Выводим результат\n",
    "print(df)"
   ]
  },
  {
   "cell_type": "markdown",
   "id": "41bb59f3-53cc-4a67-a5bc-bedf573955e4",
   "metadata": {
    "id": "41bb59f3-53cc-4a67-a5bc-bedf573955e4"
   },
   "source": [
    "4. Посчитайте с помощью запроса количество сфер деятельности в базе (таблица `industries`)."
   ]
  },
  {
   "cell_type": "code",
   "execution_count": 17,
   "id": "d286cf4c-707b-4cd2-9190-7ab3587d04a1",
   "metadata": {
    "id": "d286cf4c-707b-4cd2-9190-7ab3587d04a1"
   },
   "outputs": [],
   "source": [
    "# текст запроса\n",
    "query_3_4 = f'''\n",
    "SELECT COUNT(*) AS industry_count FROM industries;\n",
    "'''"
   ]
  },
  {
   "cell_type": "code",
   "execution_count": 18,
   "id": "JYAaoZ4qhfzW",
   "metadata": {
    "id": "JYAaoZ4qhfzW"
   },
   "outputs": [
    {
     "name": "stdout",
     "output_type": "stream",
     "text": [
      "   industry_count\n",
      "0             294\n"
     ]
    },
    {
     "name": "stderr",
     "output_type": "stream",
     "text": [
      "C:\\Users\\User\\AppData\\Local\\Temp\\ipykernel_15284\\1207865837.py:2: UserWarning: pandas only supports SQLAlchemy connectable (engine/connection) or database string URI or sqlite3 DBAPI2 connection. Other DBAPI2 objects are not tested. Please consider using SQLAlchemy.\n",
      "  df = pd.read_sql(query_3_4, connection)\n"
     ]
    }
   ],
   "source": [
    "# результат запроса\n",
    "df = pd.read_sql(query_3_4, connection)\n",
    "\n",
    "# Выводим результат\n",
    "print(df)"
   ]
  },
  {
   "cell_type": "markdown",
   "id": "ed4de9ce",
   "metadata": {},
   "source": [
    "***"
   ]
  },
  {
   "cell_type": "markdown",
   "id": "75fe3502-8345-4628-be9d-a73641c85e53",
   "metadata": {
    "id": "be4e9bd3-a4db-4a20-82fb-6b02fc2957e0"
   },
   "source": [
    "1. Среднее количество вакансий на одного работодателя 49197/23501 примерно = 2.09.\n",
    "Каждый работодатель в среднем размещает 2 вакансии. Это говорит о том, что большинство компаний нанимают точечно, а не массово. Возможно, среди них много небольших или средних компаний, а не корпораций с активным набором сотрудников.\n",
    "\n",
    "2. Среднее количество вакансий на регион 49197/1362 примерно = 36.1.\n",
    "В среднем на один регион приходится 36 вакансий. Однако, скорее всего, вакансии распределены неравномерно: в крупных городах (Москва, Санкт-Петербург) предложений больше, а в отдалённых регионах меньше.\n",
    "\n",
    "3. Среднее количество вакансий на сферу деятельности 49197/294 примерно = 167.3.\n",
    "В среднем 167 вакансий на одну сферу. Это говорит о том, что рынок труда достаточно разнообразен, но также стоит проверить, есть ли доминирующие отрасли (например, IT, продажи, производство).\n",
    "\n",
    "4. Среднее количество работодателей на регион 23501/1362 примерно = 17.3.\n",
    "В среднем 17 работодателей на регион. Опять же, это среднее значение, и, вероятно, в крупных городах число работодателей гораздо выше, чем в небольших населённых пунктах.\n",
    "\n",
    "Предварительные выводы:\n",
    "1. Рынок труда активный — почти 50 000 вакансий.\n",
    "2. Работодателей тоже много, что говорит о конкуренции среди компаний.\n",
    "3. Региональное распределение вакансий может быть неравномерным.\n",
    "4. Много сфер деятельности, но стоит проверить, какие из них лидируют."
   ]
  },
  {
   "cell_type": "markdown",
   "id": "8d62a9f3-f64e-4fe7-bdac-c4dffa16155e",
   "metadata": {
    "id": "8d62a9f3-f64e-4fe7-bdac-c4dffa16155e"
   },
   "source": [
    "## 4. Детальный анализ вакансий"
   ]
  },
  {
   "cell_type": "markdown",
   "id": "93053d3d-b284-481a-9cf7-012d7014c0e0",
   "metadata": {
    "id": "93053d3d-b284-481a-9cf7-012d7014c0e0"
   },
   "source": [
    "1. Напишите запрос, который позволит узнать, сколько (`cnt`) вакансий в каждом регионе (`area`).\n",
    "Отсортируйте по количеству вакансий в порядке убывания."
   ]
  },
  {
   "cell_type": "code",
   "execution_count": 25,
   "id": "3f069da6-fdc9-4ae7-b514-fafe2675efd3",
   "metadata": {
    "id": "3f069da6-fdc9-4ae7-b514-fafe2675efd3"
   },
   "outputs": [],
   "source": [
    "# текст запроса\n",
    "query_4_1 = f'''\n",
    "    SELECT a.name AS region, COUNT(v.id) AS cnt\n",
    "FROM vacancies v\n",
    "JOIN areas a ON v.area_id = a.id\n",
    "GROUP BY a.name\n",
    "ORDER BY cnt DESC;\n",
    "'''"
   ]
  },
  {
   "cell_type": "code",
   "execution_count": 26,
   "id": "P7QL86hrjhRJ",
   "metadata": {
    "id": "P7QL86hrjhRJ"
   },
   "outputs": [
    {
     "name": "stderr",
     "output_type": "stream",
     "text": [
      "C:\\Users\\User\\AppData\\Local\\Temp\\ipykernel_15284\\373523309.py:2: UserWarning: pandas only supports SQLAlchemy connectable (engine/connection) or database string URI or sqlite3 DBAPI2 connection. Other DBAPI2 objects are not tested. Please consider using SQLAlchemy.\n",
      "  df = pd.read_sql(query_4_1, connection)\n"
     ]
    },
    {
     "name": "stdout",
     "output_type": "stream",
     "text": [
      "              region   cnt\n",
      "0             Москва  5333\n",
      "1    Санкт-Петербург  2851\n",
      "2              Минск  2112\n",
      "3        Новосибирск  2006\n",
      "4             Алматы  1892\n",
      "..               ...   ...\n",
      "764       Тарко-Сале     1\n",
      "765    Новоаннинский     1\n",
      "766            Бирск     1\n",
      "767           Сасово     1\n",
      "768             Анна     1\n",
      "\n",
      "[769 rows x 2 columns]\n"
     ]
    }
   ],
   "source": [
    "# результат запроса\n",
    "df = pd.read_sql(query_4_1, connection)\n",
    "\n",
    "# Выводим результат\n",
    "print(df)"
   ]
  },
  {
   "cell_type": "markdown",
   "id": "4266f0b6-1646-492a-88b4-2f6a46502135",
   "metadata": {
    "id": "4266f0b6-1646-492a-88b4-2f6a46502135"
   },
   "source": [
    "2. Напишите запрос, чтобы определить у какого количества вакансий заполнено хотя бы одно из двух полей с зарплатой."
   ]
  },
  {
   "cell_type": "code",
   "execution_count": 27,
   "id": "0c44b350-72eb-4d65-8b54-a1fc449ba9fd",
   "metadata": {
    "id": "0c44b350-72eb-4d65-8b54-a1fc449ba9fd"
   },
   "outputs": [],
   "source": [
    "# текст запроса\n",
    "query_4_2 = f'''\n",
    "SELECT COUNT(*) AS vacancy_count\n",
    "FROM vacancies\n",
    "WHERE salary_from IS NOT NULL OR salary_to IS NOT NULL;\n",
    "'''"
   ]
  },
  {
   "cell_type": "code",
   "execution_count": 28,
   "id": "rhvwaMDkoWTi",
   "metadata": {
    "id": "rhvwaMDkoWTi"
   },
   "outputs": [
    {
     "name": "stdout",
     "output_type": "stream",
     "text": [
      "   vacancy_count\n",
      "0          24073\n"
     ]
    },
    {
     "name": "stderr",
     "output_type": "stream",
     "text": [
      "C:\\Users\\User\\AppData\\Local\\Temp\\ipykernel_15284\\3183580450.py:2: UserWarning: pandas only supports SQLAlchemy connectable (engine/connection) or database string URI or sqlite3 DBAPI2 connection. Other DBAPI2 objects are not tested. Please consider using SQLAlchemy.\n",
      "  df = pd.read_sql(query_4_2, connection)\n"
     ]
    }
   ],
   "source": [
    "# результат запроса\n",
    "df = pd.read_sql(query_4_2, connection)\n",
    "\n",
    "# Выводим результат\n",
    "print(df)"
   ]
  },
  {
   "cell_type": "markdown",
   "id": "635c4d5d-f323-4c66-b428-50a088120aa0",
   "metadata": {
    "id": "635c4d5d-f323-4c66-b428-50a088120aa0"
   },
   "source": [
    "3. Найдите средние значения для нижней и верхней границы зарплатной вилки. Округлите значения до **целого числа**."
   ]
  },
  {
   "cell_type": "code",
   "execution_count": 29,
   "id": "603cdbe4-0ec3-4106-8eaf-c73fcdd29165",
   "metadata": {
    "id": "603cdbe4-0ec3-4106-8eaf-c73fcdd29165"
   },
   "outputs": [],
   "source": [
    "# текст запроса\n",
    "query_4_3 = f'''\n",
    "SELECT \n",
    "    ROUND(AVG(salary_from)) AS avg_salary_from, \n",
    "    ROUND(AVG(salary_to)) AS avg_salary_to\n",
    "FROM vacancies;\n",
    "'''"
   ]
  },
  {
   "cell_type": "code",
   "execution_count": 30,
   "id": "pswpAb66ovZZ",
   "metadata": {
    "id": "pswpAb66ovZZ"
   },
   "outputs": [
    {
     "name": "stderr",
     "output_type": "stream",
     "text": [
      "C:\\Users\\User\\AppData\\Local\\Temp\\ipykernel_15284\\1125768720.py:2: UserWarning: pandas only supports SQLAlchemy connectable (engine/connection) or database string URI or sqlite3 DBAPI2 connection. Other DBAPI2 objects are not tested. Please consider using SQLAlchemy.\n",
      "  df = pd.read_sql(query_4_3, connection)\n"
     ]
    },
    {
     "name": "stdout",
     "output_type": "stream",
     "text": [
      "   avg_salary_from  avg_salary_to\n",
      "0          71065.0       110537.0\n"
     ]
    }
   ],
   "source": [
    "# результат запроса\n",
    "df = pd.read_sql(query_4_3, connection)\n",
    "\n",
    "# Выводим результат\n",
    "print(df)"
   ]
  },
  {
   "cell_type": "markdown",
   "id": "f3fdaec9-5fd3-4260-9cf5-1d7406b628a5",
   "metadata": {
    "id": "f3fdaec9-5fd3-4260-9cf5-1d7406b628a5"
   },
   "source": [
    "4. Напишите запрос, который выведет количество вакансий для каждого сочетания типа рабочего графика (`schedule`) и типа трудоустройства (`employment`), используемого в вакансиях. Результат отсортируйте по убыванию количества.\n"
   ]
  },
  {
   "cell_type": "code",
   "execution_count": 33,
   "id": "1ea710ec-871b-431e-9462-c7d0fd87011b",
   "metadata": {
    "id": "1ea710ec-871b-431e-9462-c7d0fd87011b"
   },
   "outputs": [],
   "source": [
    "# текст запроса\n",
    "query_4_4 = f'''\n",
    "SELECT schedule, employment, COUNT(*) AS vacancy_count\n",
    "FROM vacancies\n",
    "GROUP BY schedule, employment\n",
    "ORDER BY vacancy_count DESC;\n",
    "'''"
   ]
  },
  {
   "cell_type": "code",
   "execution_count": 34,
   "id": "lGUVqavdo4JQ",
   "metadata": {
    "id": "lGUVqavdo4JQ"
   },
   "outputs": [
    {
     "name": "stdout",
     "output_type": "stream",
     "text": [
      "            schedule           employment  vacancy_count\n",
      "0        Полный день     Полная занятость          35367\n",
      "1   Удаленная работа     Полная занятость           7802\n",
      "2      Гибкий график     Полная занятость           1593\n",
      "3   Удаленная работа  Частичная занятость           1312\n",
      "4     Сменный график     Полная занятость            940\n",
      "5        Полный день           Стажировка            569\n",
      "6     Вахтовый метод     Полная занятость            367\n",
      "7        Полный день  Частичная занятость            347\n",
      "8      Гибкий график  Частичная занятость            312\n",
      "9        Полный день     Проектная работа            141\n",
      "10  Удаленная работа     Проектная работа            133\n",
      "11     Гибкий график           Стажировка            116\n",
      "12    Сменный график  Частичная занятость            101\n",
      "13  Удаленная работа           Стажировка             64\n",
      "14     Гибкий график     Проектная работа             18\n",
      "15    Сменный график           Стажировка             12\n",
      "16    Вахтовый метод     Проектная работа              2\n",
      "17    Сменный график     Проектная работа              1\n"
     ]
    },
    {
     "name": "stderr",
     "output_type": "stream",
     "text": [
      "C:\\Users\\User\\AppData\\Local\\Temp\\ipykernel_15284\\4109000626.py:2: UserWarning: pandas only supports SQLAlchemy connectable (engine/connection) or database string URI or sqlite3 DBAPI2 connection. Other DBAPI2 objects are not tested. Please consider using SQLAlchemy.\n",
      "  df = pd.read_sql(query_4_4, connection)\n"
     ]
    }
   ],
   "source": [
    "# результат запроса\n",
    "df = pd.read_sql(query_4_4, connection)\n",
    "\n",
    "# Выводим результат\n",
    "print(df)"
   ]
  },
  {
   "cell_type": "markdown",
   "id": "0136ffee-0ead-4a6b-b608-61d1c753a438",
   "metadata": {
    "id": "0136ffee-0ead-4a6b-b608-61d1c753a438"
   },
   "source": [
    "5. Напишите запрос, выводящий значения поля «Требуемый опыт работы» (`experience`) в порядке возрастания количества вакансий, в которых указан данный вариант опыта."
   ]
  },
  {
   "cell_type": "code",
   "execution_count": 35,
   "id": "5b3a8e79-f7ab-4008-b767-12aea3a205ea",
   "metadata": {
    "id": "5b3a8e79-f7ab-4008-b767-12aea3a205ea"
   },
   "outputs": [],
   "source": [
    "# текст запроса\n",
    "query_4_5 = f'''\n",
    "SELECT experience, COUNT(*) AS vacancy_count\n",
    "FROM vacancies\n",
    "GROUP BY experience\n",
    "ORDER BY vacancy_count ASC;\n",
    "'''"
   ]
  },
  {
   "cell_type": "code",
   "execution_count": 36,
   "id": "3Is64Y-hpDpq",
   "metadata": {
    "id": "3Is64Y-hpDpq",
    "scrolled": true
   },
   "outputs": [
    {
     "name": "stdout",
     "output_type": "stream",
     "text": [
      "           experience  vacancy_count\n",
      "0         Более 6 лет           1337\n",
      "1           Нет опыта           7197\n",
      "2       От 3 до 6 лет          14511\n",
      "3  От 1 года до 3 лет          26152\n"
     ]
    },
    {
     "name": "stderr",
     "output_type": "stream",
     "text": [
      "C:\\Users\\User\\AppData\\Local\\Temp\\ipykernel_15284\\4272518076.py:2: UserWarning: pandas only supports SQLAlchemy connectable (engine/connection) or database string URI or sqlite3 DBAPI2 connection. Other DBAPI2 objects are not tested. Please consider using SQLAlchemy.\n",
      "  df = pd.read_sql(query_4_5, connection)\n"
     ]
    }
   ],
   "source": [
    "# результат запроса\n",
    "df = pd.read_sql(query_4_5, connection)\n",
    "\n",
    "# Выводим результат\n",
    "print(df)"
   ]
  },
  {
   "cell_type": "markdown",
   "id": "e9e280e0-25f7-4550-b2f3-590230c8b59b",
   "metadata": {
    "id": "e91f87ed-e25c-4f96-9f92-b642e8c0b4fa"
   },
   "source": [
    "# выводы по детальному анализу вакансий\n",
    "1. География вакансий\n",
    "Больше всего вакансий в Москве (5333), Санкт-Петербурге (2851), Минске (2112), Новосибирске (2006) и Алматы (1892).\n",
    "Вакансии сосредоточены в крупных экономических центрах.\n",
    "\n",
    "2. Рабочий график и занятость\n",
    "Полный день + Полная занятость — 35367 вакансий (основной формат работы).\n",
    "Удаленная работа + Полная занятость — 7802 вакансии (удаленка набирает популярность).\n",
    "Гибкий график + Полная занятость — 1593 вакансии.\n",
    "Удаленная работа + Частичная занятость — 1312 вакансий.\n",
    "\n",
    "3. Зарплатные данные\n",
    "В 24073 вакансиях (49%) указана хотя бы одна граница зарплаты.\n",
    "Средняя зарплатная вилка: от 71 065 до 110 537 руб.\n",
    "Разброс в зарплатах значительный, что зависит от квалификации и должности.\n",
    "\n",
    "\n",
    "5. Требуемый опыт работы\n",
    "Чаще всего ищут специалистов с опытом:\n",
    "1–3 года — 26 152 вакансии.\n",
    "3–6 лет — 14 511 вакансий.\n",
    "Без опыта — 7 197 вакансий (есть возможность для начинающих).\n",
    "Более 6 лет — 1 337 вакансий (руководящие и экспертные позиции).\n",
    "\n",
    "\n",
    "Вакансии сосредоточены в мегаполисах, преобладает полная занятость. Удаленная работа занимает второе место, но встречается реже. Половина вакансий содержит зарплатные данные, а диапазон доходов сильно варьируется. Чаще всего требуются специалисты с 1–3 годами опыта, но есть предложения и для новичков."
   ]
  },
  {
   "cell_type": "markdown",
   "id": "7ea20ab6-04a7-40a0-adec-443a0e5a42c3",
   "metadata": {
    "id": "7ea20ab6-04a7-40a0-adec-443a0e5a42c3"
   },
   "source": [
    "## 5. Анализ работодателей"
   ]
  },
  {
   "cell_type": "markdown",
   "id": "968aed80-74ef-4ffb-b5bf-c65b84e9caea",
   "metadata": {
    "id": "968aed80-74ef-4ffb-b5bf-c65b84e9caea"
   },
   "source": [
    "1. Напишите запрос, который позволит узнать, какие работодатели находятся на первом и пятом месте по количеству вакансий."
   ]
  },
  {
   "cell_type": "code",
   "execution_count": 39,
   "id": "f2d62796-d400-4ec1-a675-88112739a50e",
   "metadata": {
    "id": "f2d62796-d400-4ec1-a675-88112739a50e"
   },
   "outputs": [],
   "source": [
    "# текст запроса\n",
    "query_5_1 = f'''(\n",
    "    SELECT e.name AS employer, COUNT(*) AS vacancy_count\n",
    "    FROM vacancies v\n",
    "    JOIN employers e ON v.employer_id = e.id\n",
    "    GROUP BY e.name\n",
    "    ORDER BY vacancy_count DESC\n",
    "    LIMIT 1\n",
    ")\n",
    "UNION ALL\n",
    "(\n",
    "    SELECT e.name AS employer, COUNT(*) AS vacancy_count\n",
    "    FROM vacancies v\n",
    "    JOIN employers e ON v.employer_id = e.id\n",
    "    GROUP BY e.name\n",
    "    ORDER BY vacancy_count DESC\n",
    "    LIMIT 1 OFFSET 4\n",
    ");\n",
    "'''"
   ]
  },
  {
   "cell_type": "code",
   "execution_count": 40,
   "id": "64tOMkAxqkQk",
   "metadata": {
    "id": "64tOMkAxqkQk"
   },
   "outputs": [
    {
     "name": "stderr",
     "output_type": "stream",
     "text": [
      "C:\\Users\\User\\AppData\\Local\\Temp\\ipykernel_15284\\49894091.py:2: UserWarning: pandas only supports SQLAlchemy connectable (engine/connection) or database string URI or sqlite3 DBAPI2 connection. Other DBAPI2 objects are not tested. Please consider using SQLAlchemy.\n",
      "  df = pd.read_sql(query_5_1, connection)\n"
     ]
    },
    {
     "name": "stdout",
     "output_type": "stream",
     "text": [
      "        employer  vacancy_count\n",
      "0         Яндекс           1933\n",
      "1  Газпром нефть            331\n"
     ]
    }
   ],
   "source": [
    "# результат запроса\n",
    "df = pd.read_sql(query_5_1, connection)\n",
    "\n",
    "# Выводим результат\n",
    "print(df)"
   ]
  },
  {
   "cell_type": "markdown",
   "id": "68377cfc-b378-43dc-ab7d-1195abf2c515",
   "metadata": {
    "id": "68377cfc-b378-43dc-ab7d-1195abf2c515"
   },
   "source": [
    "2. Напишите запрос, который для каждого региона выведет количество работодателей и вакансий в нём.\n",
    "Среди регионов, в которых нет вакансий, найдите тот, в котором наибольшее количество работодателей.\n"
   ]
  },
  {
   "cell_type": "code",
   "execution_count": 53,
   "id": "dd7df27a-e3e8-412e-a21a-5d389b71e891",
   "metadata": {
    "id": "dd7df27a-e3e8-412e-a21a-5d389b71e891"
   },
   "outputs": [],
   "source": [
    "# текст запроса\n",
    "query_5_2_1 = f'''\n",
    "SELECT \n",
    "    a.name AS region, \n",
    "    COUNT(DISTINCT v.employer_id) AS employer_count, \n",
    "    COUNT(v.id) AS vacancy_count\n",
    "FROM areas a\n",
    "LEFT JOIN vacancies v ON a.id = v.area_id\n",
    "GROUP BY a.name\n",
    "ORDER BY vacancy_count DESC;\n",
    "'''"
   ]
  },
  {
   "cell_type": "code",
   "execution_count": 54,
   "id": "2ce144af-c6d0-4b78-9ef3-ca6369909edb",
   "metadata": {},
   "outputs": [],
   "source": [
    "query_5_2_2 = f'''\n",
    "SELECT \n",
    "    a.name AS region, \n",
    "    COUNT(DISTINCT v.employer_id) AS employer_count\n",
    "FROM areas a\n",
    "LEFT JOIN vacancies v ON a.id = v.area_id\n",
    "GROUP BY a.name\n",
    "HAVING COUNT(v.id) = 0\n",
    "ORDER BY employer_count DESC\n",
    "LIMIT 1;\n",
    "'''"
   ]
  },
  {
   "cell_type": "code",
   "execution_count": 57,
   "id": "x1ikWbydrbf6",
   "metadata": {
    "id": "x1ikWbydrbf6"
   },
   "outputs": [
    {
     "name": "stderr",
     "output_type": "stream",
     "text": [
      "C:\\Users\\User\\AppData\\Local\\Temp\\ipykernel_15284\\3796143725.py:2: UserWarning: pandas only supports SQLAlchemy connectable (engine/connection) or database string URI or sqlite3 DBAPI2 connection. Other DBAPI2 objects are not tested. Please consider using SQLAlchemy.\n",
      "  df = pd.read_sql(query_5_2_1, connection)\n"
     ]
    },
    {
     "name": "stdout",
     "output_type": "stream",
     "text": [
      "                     region  employer_count  vacancy_count\n",
      "0                    Москва            2320           5333\n",
      "1           Санкт-Петербург            1451           2851\n",
      "2                     Минск             851           2112\n",
      "3               Новосибирск             802           2006\n",
      "4                    Алматы             798           1892\n",
      "...                     ...             ...            ...\n",
      "1357             Нефтекумск               0              0\n",
      "1358          Краснозёрское               0              0\n",
      "1359                    Нея               0              0\n",
      "1360          Краснозерское               0              0\n",
      "1361  Нижегородская область               0              0\n",
      "\n",
      "[1362 rows x 3 columns]\n"
     ]
    }
   ],
   "source": [
    "# результат запроса \n",
    "df = pd.read_sql(query_5_2_1, connection)\n",
    "\n",
    "# Выводим результат количества работодателей и вакансий в нём\n",
    "print(df)"
   ]
  },
  {
   "cell_type": "code",
   "execution_count": 58,
   "id": "43a2d7c0-b10d-41ec-870b-a8acccc144af",
   "metadata": {},
   "outputs": [
    {
     "name": "stdout",
     "output_type": "stream",
     "text": [
      "     region  employer_count\n",
      "0  Абатское               0\n"
     ]
    },
    {
     "name": "stderr",
     "output_type": "stream",
     "text": [
      "C:\\Users\\User\\AppData\\Local\\Temp\\ipykernel_15284\\2523512093.py:2: UserWarning: pandas only supports SQLAlchemy connectable (engine/connection) or database string URI or sqlite3 DBAPI2 connection. Other DBAPI2 objects are not tested. Please consider using SQLAlchemy.\n",
      "  df = pd.read_sql(query_5_2_2, connection)\n"
     ]
    }
   ],
   "source": [
    "# результат запроса \n",
    "df = pd.read_sql(query_5_2_2, connection)\n",
    "\n",
    "# Выводим результат - регион без вакансий, но с наибольшим количеством работодателей \n",
    "print(df)"
   ]
  },
  {
   "cell_type": "markdown",
   "id": "f2fe0acb-ab1a-4e15-9326-2560e22d73c1",
   "metadata": {
    "id": "f2fe0acb-ab1a-4e15-9326-2560e22d73c1"
   },
   "source": [
    "3. Для каждого работодателя посчитайте количество регионов, в которых он публикует свои вакансии. Отсортируйте результат по убыванию количества.\n"
   ]
  },
  {
   "cell_type": "code",
   "execution_count": 61,
   "id": "6271f8ad-bd2e-4196-ae4a-5b39c4c1010e",
   "metadata": {
    "id": "6271f8ad-bd2e-4196-ae4a-5b39c4c1010e"
   },
   "outputs": [],
   "source": [
    "# текст запроса\n",
    "query_5_3 = f'''\n",
    "SELECT \n",
    "    e.name AS employer_name, \n",
    "    COUNT(DISTINCT v.area_id) AS region_count\n",
    "FROM vacancies v\n",
    "JOIN employers e ON v.employer_id = e.id\n",
    "GROUP BY e.name\n",
    "ORDER BY region_count DESC;\n",
    "'''"
   ]
  },
  {
   "cell_type": "code",
   "execution_count": 62,
   "id": "1EIvX3HasH4F",
   "metadata": {
    "id": "1EIvX3HasH4F"
   },
   "outputs": [
    {
     "name": "stderr",
     "output_type": "stream",
     "text": [
      "C:\\Users\\User\\AppData\\Local\\Temp\\ipykernel_15284\\506243922.py:2: UserWarning: pandas only supports SQLAlchemy connectable (engine/connection) or database string URI or sqlite3 DBAPI2 connection. Other DBAPI2 objects are not tested. Please consider using SQLAlchemy.\n",
      "  df = pd.read_sql(query_5_3, connection)\n"
     ]
    },
    {
     "name": "stdout",
     "output_type": "stream",
     "text": [
      "                employer_name  region_count\n",
      "0                      Яндекс           181\n",
      "1                  Ростелеком           152\n",
      "2                  Спецремонт           116\n",
      "3      Поляков Денис Иванович            88\n",
      "4                   ООО ЕФИН             71\n",
      "...                       ...           ...\n",
      "14761                  UniSol             1\n",
      "14762            UNISTORY LLC             1\n",
      "14763                   UNIT6             1\n",
      "14764     United Distribution             1\n",
      "14765              UNITEL LLC             1\n",
      "\n",
      "[14766 rows x 2 columns]\n"
     ]
    }
   ],
   "source": [
    "# результат запроса\n",
    "df = pd.read_sql(query_5_3, connection)\n",
    "\n",
    "# Выводим результат \n",
    "print(df)"
   ]
  },
  {
   "cell_type": "markdown",
   "id": "eab2206d-d95b-468b-8e5f-34381abf0ce7",
   "metadata": {
    "id": "eab2206d-d95b-468b-8e5f-34381abf0ce7"
   },
   "source": [
    "4. Напишите запрос для подсчёта количества работодателей, у которых не указана сфера деятельности."
   ]
  },
  {
   "cell_type": "code",
   "execution_count": 83,
   "id": "80defb23-bfb1-4a18-8be6-bf36aa7165d5",
   "metadata": {
    "id": "80defb23-bfb1-4a18-8be6-bf36aa7165d5"
   },
   "outputs": [],
   "source": [
    "# текст запроса\n",
    "query_5_4 = f'''\n",
    "SELECT COUNT(e.id) AS employers_without_industry\n",
    "FROM employers e\n",
    "LEFT JOIN employers_industries ei ON e.id = ei.employer_id\n",
    "WHERE ei.industry_id IS NULL;\n",
    "'''"
   ]
  },
  {
   "cell_type": "code",
   "execution_count": 84,
   "id": "Dp_yCx6ysQSu",
   "metadata": {
    "id": "Dp_yCx6ysQSu"
   },
   "outputs": [
    {
     "name": "stdout",
     "output_type": "stream",
     "text": [
      "   employers_without_industry\n",
      "0                        8419\n"
     ]
    },
    {
     "name": "stderr",
     "output_type": "stream",
     "text": [
      "C:\\Users\\User\\AppData\\Local\\Temp\\ipykernel_15284\\2325643303.py:2: UserWarning: pandas only supports SQLAlchemy connectable (engine/connection) or database string URI or sqlite3 DBAPI2 connection. Other DBAPI2 objects are not tested. Please consider using SQLAlchemy.\n",
      "  df = pd.read_sql(query_5_4, connection)\n"
     ]
    }
   ],
   "source": [
    "# результат запроса\n",
    "df = pd.read_sql(query_5_4, connection)\n",
    "\n",
    "# Выводим результат \n",
    "print(df)"
   ]
  },
  {
   "cell_type": "markdown",
   "id": "0112af31-f6b0-4e3b-82ab-71296e752e5e",
   "metadata": {
    "id": "0112af31-f6b0-4e3b-82ab-71296e752e5e"
   },
   "source": [
    "5. Напишите запрос, чтобы узнать название компании, находящейся на третьем месте в алфавитном списке (по названию) компаний, у которых указано четыре сферы деятельности."
   ]
  },
  {
   "cell_type": "code",
   "execution_count": 85,
   "id": "973b0cfc-a972-470a-8b4a-68744ef220c4",
   "metadata": {
    "id": "973b0cfc-a972-470a-8b4a-68744ef220c4"
   },
   "outputs": [],
   "source": [
    "# текст запроса\n",
    "query_5_5 = f'''\n",
    "SELECT e.name \n",
    "FROM employers e\n",
    "JOIN employers_industries ei ON e.id = ei.employer_id\n",
    "GROUP BY e.id, e.name\n",
    "HAVING COUNT(ei.industry_id) = 4\n",
    "ORDER BY e.name\n",
    "LIMIT 1 OFFSET 2;\n",
    "'''"
   ]
  },
  {
   "cell_type": "code",
   "execution_count": 86,
   "id": "xsPtpp8EsaED",
   "metadata": {
    "id": "xsPtpp8EsaED"
   },
   "outputs": [
    {
     "name": "stdout",
     "output_type": "stream",
     "text": [
      "   name\n",
      "0  2ГИС\n"
     ]
    },
    {
     "name": "stderr",
     "output_type": "stream",
     "text": [
      "C:\\Users\\User\\AppData\\Local\\Temp\\ipykernel_15284\\3460916181.py:2: UserWarning: pandas only supports SQLAlchemy connectable (engine/connection) or database string URI or sqlite3 DBAPI2 connection. Other DBAPI2 objects are not tested. Please consider using SQLAlchemy.\n",
      "  df = pd.read_sql(query_5_5, connection)\n"
     ]
    }
   ],
   "source": [
    "# результат запроса\n",
    "df = pd.read_sql(query_5_5, connection)\n",
    "\n",
    "# Выводим результат \n",
    "print(df)"
   ]
  },
  {
   "cell_type": "markdown",
   "id": "3bfcfdaf-755d-4d2b-8ed8-326201dc07ab",
   "metadata": {
    "id": "3bfcfdaf-755d-4d2b-8ed8-326201dc07ab"
   },
   "source": [
    "6. С помощью запроса выясните, у какого количества работодателей в качестве сферы деятельности указана «Разработка программного обеспечения».\n"
   ]
  },
  {
   "cell_type": "code",
   "execution_count": 89,
   "id": "ad3f270f-2991-47eb-929b-e8f88a55b0d1",
   "metadata": {
    "id": "ad3f270f-2991-47eb-929b-e8f88a55b0d1"
   },
   "outputs": [],
   "source": [
    "# текст запроса\n",
    "query_5_6 = f'''\n",
    "SELECT COUNT(DISTINCT ei.employer_id) AS employer_count\n",
    "FROM employers_industries ei\n",
    "JOIN industries i ON ei.industry_id = i.id\n",
    "WHERE i.name = 'Разработка программного обеспечения';\n",
    "'''"
   ]
  },
  {
   "cell_type": "code",
   "execution_count": 90,
   "id": "H72qxWM0shPR",
   "metadata": {
    "id": "H72qxWM0shPR"
   },
   "outputs": [
    {
     "name": "stdout",
     "output_type": "stream",
     "text": [
      "   employer_count\n",
      "0            3553\n"
     ]
    },
    {
     "name": "stderr",
     "output_type": "stream",
     "text": [
      "C:\\Users\\User\\AppData\\Local\\Temp\\ipykernel_15284\\866718697.py:2: UserWarning: pandas only supports SQLAlchemy connectable (engine/connection) or database string URI or sqlite3 DBAPI2 connection. Other DBAPI2 objects are not tested. Please consider using SQLAlchemy.\n",
      "  df = pd.read_sql(query_5_6, connection)\n"
     ]
    }
   ],
   "source": [
    "# результат запроса\n",
    "df = pd.read_sql(query_5_6, connection)\n",
    "\n",
    "# Выводим результат \n",
    "print(df)"
   ]
  },
  {
   "cell_type": "markdown",
   "id": "c893936b",
   "metadata": {},
   "source": [
    "7. Для компании «Яндекс» выведите список [городов-миллионников](https://ru.wikipedia.org/wiki/%D0%93%D0%BE%D1%80%D0%BE%D0%B4%D0%B0-%D0%BC%D0%B8%D0%BB%D0%BB%D0%B8%D0%BE%D0%BD%D0%B5%D1%80%D1%8B_%D0%A0%D0%BE%D1%81%D1%81%D0%B8%D0%B8), в которых представлены вакансии компании, вместе с количеством вакансий в этих регионах. Также добавьте строку \"Total\" с общим количеством вакансий компании. Результат отсортируйте по возрастанию количества.\n",
    "\n",
    "    Если возникнут трудности с этим заданием, посмотрите материалы модуля 6.4 «Как получать данные из веб-источников и API»."
   ]
  },
  {
   "cell_type": "code",
   "execution_count": 101,
   "id": "ZdfrL6gIs1Pn",
   "metadata": {
    "id": "ZdfrL6gIs1Pn"
   },
   "outputs": [
    {
     "name": "stdout",
     "output_type": "stream",
     "text": [
      "Москва: 13149803\n",
      "Санкт-Петербург: 5597763\n",
      "Новосибирск: 1633851\n",
      "Екатеринбург: 1536183\n",
      "Казань: 1318604\n",
      "Красноярск: 1205473\n",
      "Нижний Новгород: 1204985\n",
      "Челябинск: 1177058\n",
      "Самара: 1163645\n",
      "Уфа: 1163304\n",
      "Краснодар: 1138654\n",
      "Ростов-на-Дону: 1135968\n",
      "Омск: 1104485\n",
      "Воронеж: 1051995\n",
      "Пермь: 1026908\n",
      "Волгоград: 1025662\n",
      "'Москва', 'Санкт-Петербург', 'Новосибирск', 'Екатеринбург', 'Казань', 'Красноярск', 'Нижний Новгород', 'Челябинск', 'Самара', 'Уфа', 'Краснодар', 'Ростов-на-Дону', 'Омск', 'Воронеж', 'Пермь', 'Волгоград'\n"
     ]
    }
   ],
   "source": [
    "# код для получения списка городов-милионников\n",
    "import requests\n",
    "\n",
    "# URL Overpass API\n",
    "url = \"http://overpass-api.de/api/interpreter\"\n",
    "\n",
    "# Overpass Query\n",
    "query = \"\"\"\n",
    "[out:json];\n",
    "area[\"ISO3166-1\"=\"RU\"]->.russia;\n",
    "node\n",
    "  [place=city]\n",
    "  [\"population\"]\n",
    "  (area.russia);\n",
    "out body;\n",
    "\"\"\"\n",
    "\n",
    "# Выполняем запрос\n",
    "response = requests.get(url, params={\"data\": query})\n",
    "data = response.json()\n",
    "\n",
    "# Фильтруем только города с населением больше 1 000 000\n",
    "cities = []\n",
    "for element in data[\"elements\"]:\n",
    "    name = element[\"tags\"].get(\"name\")\n",
    "    population = int(element[\"tags\"].get(\"population\", 0))\n",
    "    if population >= 1_000_000:\n",
    "        cities.append((name, population))\n",
    "\n",
    "# Сортируем по населению\n",
    "cities.sort(key=lambda x: x[1], reverse=True)\n",
    "\n",
    "# Выводим список\n",
    "for city, pop in cities:\n",
    "    print(f\"{city}: {pop}\")\n",
    "\n",
    "# Формируем список только с названиями городов\n",
    "city_names = [city[0] for city in cities]\n",
    "\n",
    "# Преобразуем в строку для SQL-запроса\n",
    "city_names_sql = \", \".join(f\"'{city}'\" for city in city_names)\n",
    "print(city_names_sql)  # Проверим, как выглядит строка\n"
   ]
  },
  {
   "cell_type": "code",
   "execution_count": 102,
   "id": "5a0e32a4-e68a-4365-8a39-2fe24c542c36",
   "metadata": {
    "id": "5a0e32a4-e68a-4365-8a39-2fe24c542c36"
   },
   "outputs": [],
   "source": [
    "# текст запроса\n",
    "query_5_7 = f\"\"\"\n",
    "WITH city_vacancies AS (\n",
    "    SELECT area.name AS city, COUNT(*) AS vacancy_count\n",
    "    FROM vacancies v\n",
    "    JOIN areas area ON v.area_id = area.id\n",
    "    JOIN employers e ON v.employer_id = e.id\n",
    "    WHERE e.name = 'Яндекс' AND area.name IN ({city_names_sql})\n",
    "    GROUP BY area.name\n",
    ")\n",
    "SELECT city, vacancy_count FROM city_vacancies\n",
    "UNION ALL\n",
    "SELECT 'Total', SUM(vacancy_count) FROM city_vacancies\n",
    "ORDER BY vacancy_count ASC;\n",
    "\"\"\"\n"
   ]
  },
  {
   "cell_type": "code",
   "execution_count": 103,
   "id": "ttPhiO1rsvPq",
   "metadata": {
    "id": "ttPhiO1rsvPq"
   },
   "outputs": [
    {
     "name": "stdout",
     "output_type": "stream",
     "text": [
      "               city  vacancy_count\n",
      "0              Омск           21.0\n",
      "1         Челябинск           22.0\n",
      "2        Красноярск           23.0\n",
      "3         Волгоград           24.0\n",
      "4             Пермь           25.0\n",
      "5            Казань           25.0\n",
      "6    Ростов-на-Дону           25.0\n",
      "7            Самара           26.0\n",
      "8               Уфа           26.0\n",
      "9         Краснодар           30.0\n",
      "10          Воронеж           32.0\n",
      "11      Новосибирск           35.0\n",
      "12  Нижний Новгород           36.0\n",
      "13     Екатеринбург           39.0\n",
      "14  Санкт-Петербург           42.0\n",
      "15           Москва           54.0\n",
      "16            Total          485.0\n"
     ]
    },
    {
     "name": "stderr",
     "output_type": "stream",
     "text": [
      "C:\\Users\\User\\AppData\\Local\\Temp\\ipykernel_15284\\439775172.py:2: UserWarning: pandas only supports SQLAlchemy connectable (engine/connection) or database string URI or sqlite3 DBAPI2 connection. Other DBAPI2 objects are not tested. Please consider using SQLAlchemy.\n",
      "  df = pd.read_sql(query_5_7, connection)\n"
     ]
    }
   ],
   "source": [
    "# результат запроса\n",
    "df = pd.read_sql(query_5_7, connection)\n",
    "\n",
    "# Выводим результат \n",
    "print(df)"
   ]
  },
  {
   "cell_type": "markdown",
   "id": "04966e40-3bc3-4dc8-9ba2-e80580ce3abc",
   "metadata": {
    "id": "04966e40-3bc3-4dc8-9ba2-e80580ce3abc"
   },
   "source": [
    "***"
   ]
  },
  {
   "cell_type": "markdown",
   "id": "fa8f4a5e-0c8f-4fbc-ac2b-ec91c8f8f778",
   "metadata": {
    "id": "aGGyER-yt4SR"
   },
   "source": [
    "# выводы по анализу работодателей\n",
    "Анализ вакансий показывает, что крупнейшим работодателем по количеству опубликованных вакансий является «Яндекс» (1933 вакансии), за ним следует «Газпром нефть» (331 вакансия). Москва и Санкт-Петербург лидируют по числу работодателей и вакансий, при этом в Москве размещено более 5 тысяч вакансий. Значительная часть работодателей (8419) не указывает сферу деятельности, что может усложнять поиск работы по отраслям. Среди компаний с четырьмя сферами деятельности третьей в алфавитном порядке оказалась «2ГИС». В сфере «Разработка программного обеспечения» работают 3553 работодателя. Вакансии «Яндекса» представлены в городах-миллионниках, но их распределение неравномерное: например, в Омске — 21 вакансия, а всего — 485 вакансий."
   ]
  },
  {
   "cell_type": "markdown",
   "id": "b1ef156a-efcb-49ce-bb23-90763e7f35b2",
   "metadata": {
    "id": "b1ef156a-efcb-49ce-bb23-90763e7f35b2",
    "tags": []
   },
   "source": [
    "## 6. Предметный анализ"
   ]
  },
  {
   "cell_type": "markdown",
   "id": "b9cd50a0-992d-4988-8463-2b2b1c4629b4",
   "metadata": {
    "id": "b9cd50a0-992d-4988-8463-2b2b1c4629b4"
   },
   "source": [
    "1. Сколько вакансий имеет отношение к данным?\n",
    "\n",
    "    Считаем, что вакансия имеет отношение к данным, если в её названии содержатся слова `'data'` или `'данн'`.\n",
    "\n",
    "    *Обратите внимание, что названия вакансий могут быть написаны в любом регистре.*\n"
   ]
  },
  {
   "cell_type": "code",
   "execution_count": 105,
   "id": "54ab0e50-c0f1-47cc-a54b-bc5c8bc363f9",
   "metadata": {
    "id": "54ab0e50-c0f1-47cc-a54b-bc5c8bc363f9"
   },
   "outputs": [],
   "source": [
    "# текст запроса\n",
    "query_6_1 = f'''\n",
    "SELECT COUNT(*) AS data_related_vacancies\n",
    "FROM vacancies\n",
    "WHERE LOWER(name) LIKE '%data%' OR LOWER(name) LIKE '%данн%';\n",
    "'''"
   ]
  },
  {
   "cell_type": "code",
   "execution_count": 106,
   "id": "9F1meAqsuUjd",
   "metadata": {
    "id": "9F1meAqsuUjd"
   },
   "outputs": [
    {
     "name": "stderr",
     "output_type": "stream",
     "text": [
      "C:\\Users\\User\\AppData\\Local\\Temp\\ipykernel_15284\\2192371003.py:2: UserWarning: pandas only supports SQLAlchemy connectable (engine/connection) or database string URI or sqlite3 DBAPI2 connection. Other DBAPI2 objects are not tested. Please consider using SQLAlchemy.\n",
      "  df = pd.read_sql(query_6_1, connection)\n"
     ]
    },
    {
     "name": "stdout",
     "output_type": "stream",
     "text": [
      "   data_related_vacancies\n",
      "0                    1771\n"
     ]
    }
   ],
   "source": [
    "# результат запроса\n",
    "df = pd.read_sql(query_6_1, connection)\n",
    "\n",
    "# Выводим результат \n",
    "print(df)"
   ]
  },
  {
   "cell_type": "markdown",
   "id": "4dea20cb-a36b-474a-a0b9-e08e8e3857a5",
   "metadata": {
    "id": "4dea20cb-a36b-474a-a0b9-e08e8e3857a5"
   },
   "source": [
    "2. Сколько есть подходящих вакансий для начинающего дата-сайентиста? Будем считать вакансиями для дата-сайентистов такие, в названии которых есть хотя бы одно из следующих сочетаний:\n",
    "    * 'data scientist'\n",
    "    * 'data science'\n",
    "    * 'исследователь данных'\n",
    "    * 'ML' (здесь не нужно брать вакансии по HTML)\n",
    "    * 'machine learning'\n",
    "    * 'машинн%обучен%'\n",
    "\n",
    "    **В следующих заданиях мы продолжим работать с вакансиями по этому условию.**\n",
    "\n",
    "    Считаем вакансиями для специалистов уровня Junior следующие:\n",
    "    + в названии есть слово “junior” **или**\n",
    "    + требуемый опыт — «Нет опыта» **или**\n",
    "    + тип трудоустройства — «Стажировка».\n"
   ]
  },
  {
   "cell_type": "code",
   "execution_count": 108,
   "id": "9c61b3c0-bb66-46c9-ae1e-81d3f5752b4a",
   "metadata": {
    "id": "9c61b3c0-bb66-46c9-ae1e-81d3f5752b4a"
   },
   "outputs": [],
   "source": [
    "# текст запроса\n",
    "query_6_2 = f'''\n",
    "SELECT COUNT(*) AS junior_ds_vacancies\n",
    "FROM vacancies\n",
    "WHERE (\n",
    "    LOWER(name) LIKE '%data scientist%' OR \n",
    "    LOWER(name) LIKE '%data science%' OR \n",
    "    LOWER(name) LIKE '%исследователь данных%' OR \n",
    "    (LOWER(name) LIKE '%ml%' AND LOWER(name) NOT LIKE '%html%') OR\n",
    "    LOWER(name) LIKE '%machine learning%' OR \n",
    "    LOWER(name) LIKE '%машинн%обучен%'\n",
    ") \n",
    "AND (\n",
    "    LOWER(name) LIKE '%junior%' OR \n",
    "    experience = 'Нет опыта' OR \n",
    "    employment = 'Стажировка'\n",
    ");\n",
    "'''"
   ]
  },
  {
   "cell_type": "code",
   "execution_count": 109,
   "id": "ZNM-LLYuu1dj",
   "metadata": {
    "id": "ZNM-LLYuu1dj"
   },
   "outputs": [
    {
     "name": "stderr",
     "output_type": "stream",
     "text": [
      "C:\\Users\\User\\AppData\\Local\\Temp\\ipykernel_15284\\3662680524.py:2: UserWarning: pandas only supports SQLAlchemy connectable (engine/connection) or database string URI or sqlite3 DBAPI2 connection. Other DBAPI2 objects are not tested. Please consider using SQLAlchemy.\n",
      "  df = pd.read_sql(query_6_2, connection)\n"
     ]
    },
    {
     "name": "stdout",
     "output_type": "stream",
     "text": [
      "   junior_ds_vacancies\n",
      "0                   51\n"
     ]
    }
   ],
   "source": [
    "# результат запроса\n",
    "df = pd.read_sql(query_6_2, connection)\n",
    "\n",
    "# Выводим результат \n",
    "print(df)"
   ]
  },
  {
   "cell_type": "markdown",
   "id": "eedceb80-c5ca-480e-b27a-278dfb8b4438",
   "metadata": {
    "id": "eedceb80-c5ca-480e-b27a-278dfb8b4438"
   },
   "source": [
    "3. Сколько есть вакансий для DS, в которых в качестве ключевого навыка указан SQL или Postgres?\n",
    "\n",
    "    *Критерии для отнесения вакансии к DS указаны в предыдущем задании.*"
   ]
  },
  {
   "cell_type": "code",
   "execution_count": 110,
   "id": "69621713-0cc5-4f1b-a1d7-bb144fa6148c",
   "metadata": {
    "id": "69621713-0cc5-4f1b-a1d7-bb144fa6148c"
   },
   "outputs": [],
   "source": [
    "# текст запроса\n",
    "query_6_3 = f'''\n",
    "SELECT COUNT(*) AS ds_vacancies_with_sql\n",
    "FROM vacancies\n",
    "WHERE (\n",
    "    LOWER(name) LIKE '%data scientist%' OR \n",
    "    LOWER(name) LIKE '%data science%' OR \n",
    "    LOWER(name) LIKE '%исследователь данных%' OR \n",
    "    (LOWER(name) LIKE '%ml%' AND LOWER(name) NOT LIKE '%html%') OR\n",
    "    LOWER(name) LIKE '%machine learning%' OR \n",
    "    LOWER(name) LIKE '%машинн%обучен%'\n",
    ") \n",
    "AND (\n",
    "    LOWER(key_skills) LIKE '%sql%' OR \n",
    "    LOWER(key_skills) LIKE '%postgres%'\n",
    ");\n",
    "'''"
   ]
  },
  {
   "cell_type": "code",
   "execution_count": 111,
   "id": "alA8WEAAvGdf",
   "metadata": {
    "id": "alA8WEAAvGdf"
   },
   "outputs": [
    {
     "name": "stderr",
     "output_type": "stream",
     "text": [
      "C:\\Users\\User\\AppData\\Local\\Temp\\ipykernel_15284\\1787216350.py:2: UserWarning: pandas only supports SQLAlchemy connectable (engine/connection) or database string URI or sqlite3 DBAPI2 connection. Other DBAPI2 objects are not tested. Please consider using SQLAlchemy.\n",
      "  df = pd.read_sql(query_6_3, connection)\n"
     ]
    },
    {
     "name": "stdout",
     "output_type": "stream",
     "text": [
      "   ds_vacancies_with_sql\n",
      "0                    229\n"
     ]
    }
   ],
   "source": [
    "# результат запроса\n",
    "df = pd.read_sql(query_6_3, connection)\n",
    "\n",
    "# Выводим результат \n",
    "print(df)"
   ]
  },
  {
   "cell_type": "markdown",
   "id": "1be1e9c6-37cf-4a5f-bfeb-04cab799dc80",
   "metadata": {
    "id": "1be1e9c6-37cf-4a5f-bfeb-04cab799dc80"
   },
   "source": [
    "4. Проверьте, насколько популярен Python в требованиях работодателей к DS. Для этого вычислите количество вакансий, в которых в качестве ключевого навыка указан Python.\n",
    "\n",
    "    *Это можно сделать помощью запроса, аналогичного предыдущему.*"
   ]
  },
  {
   "cell_type": "code",
   "execution_count": 112,
   "id": "0036a355-9ccf-4564-8b01-73d8194297e7",
   "metadata": {
    "id": "0036a355-9ccf-4564-8b01-73d8194297e7"
   },
   "outputs": [],
   "source": [
    "# текст запроса\n",
    "query_6_4 = f'''\n",
    "SELECT COUNT(*) AS ds_vacancies_with_python\n",
    "FROM vacancies\n",
    "WHERE (\n",
    "    LOWER(name) LIKE '%data scientist%' OR \n",
    "    LOWER(name) LIKE '%data science%' OR \n",
    "    LOWER(name) LIKE '%исследователь данных%' OR \n",
    "    (LOWER(name) LIKE '%ml%' AND LOWER(name) NOT LIKE '%html%') OR\n",
    "    LOWER(name) LIKE '%machine learning%' OR \n",
    "    LOWER(name) LIKE '%машинн%обучен%'\n",
    ") \n",
    "AND LOWER(key_skills) LIKE '%python%';\n",
    "'''"
   ]
  },
  {
   "cell_type": "code",
   "execution_count": 113,
   "id": "1i-5WyucvQ6v",
   "metadata": {
    "id": "1i-5WyucvQ6v"
   },
   "outputs": [
    {
     "name": "stderr",
     "output_type": "stream",
     "text": [
      "C:\\Users\\User\\AppData\\Local\\Temp\\ipykernel_15284\\4106316143.py:2: UserWarning: pandas only supports SQLAlchemy connectable (engine/connection) or database string URI or sqlite3 DBAPI2 connection. Other DBAPI2 objects are not tested. Please consider using SQLAlchemy.\n",
      "  df = pd.read_sql(query_6_4, connection)\n"
     ]
    },
    {
     "name": "stdout",
     "output_type": "stream",
     "text": [
      "   ds_vacancies_with_python\n",
      "0                       357\n"
     ]
    }
   ],
   "source": [
    "# результат запроса\n",
    "df = pd.read_sql(query_6_4, connection)\n",
    "\n",
    "# Выводим результат \n",
    "print(df)"
   ]
  },
  {
   "cell_type": "markdown",
   "id": "ec3c8db7-fa21-4a41-a994-1af63742a642",
   "metadata": {
    "id": "ec3c8db7-fa21-4a41-a994-1af63742a642"
   },
   "source": [
    "5. Сколько ключевых навыков в среднем указывают в вакансиях для DS?\n",
    "Ответ округлите до **двух знаков после точки-разделителя**."
   ]
  },
  {
   "cell_type": "code",
   "execution_count": 127,
   "id": "949132bc-d5b6-4611-8218-0b9a504d74f4",
   "metadata": {
    "id": "949132bc-d5b6-4611-8218-0b9a504d74f4"
   },
   "outputs": [],
   "source": [
    "# текст запроса\n",
    "query_6_5 = f'''\n",
    "SELECT\n",
    "    ROUND(AVG(LENGTH(key_skills) - LENGTH(REPLACE(key_skills, CHR(9), '')) + 1), 2) AS avg_key_skills,\n",
    "    COUNT(*) AS total_vacancies\n",
    "FROM public.vacancies\n",
    "WHERE (LOWER(name) LIKE '%data scientist%'\n",
    "   OR LOWER(name) LIKE '%data science%'\n",
    "   OR LOWER(name) LIKE '%исследователь данных%'\n",
    "   OR (LOWER(name) LIKE '% ml %' AND LOWER(name) NOT LIKE '%html%')\n",
    "   OR LOWER(name) LIKE '%machine learning%'\n",
    "   OR LOWER(name) LIKE '%машинн%обучен%')\n",
    "   AND key_skills IS NOT NULL\n",
    "   AND key_skills != '';\n",
    "'''"
   ]
  },
  {
   "cell_type": "code",
   "execution_count": 128,
   "id": "a3V24Tvmviqk",
   "metadata": {
    "id": "a3V24Tvmviqk",
    "scrolled": true
   },
   "outputs": [
    {
     "name": "stderr",
     "output_type": "stream",
     "text": [
      "C:\\Users\\User\\AppData\\Local\\Temp\\ipykernel_15284\\3835504553.py:2: UserWarning: pandas only supports SQLAlchemy connectable (engine/connection) or database string URI or sqlite3 DBAPI2 connection. Other DBAPI2 objects are not tested. Please consider using SQLAlchemy.\n",
      "  df = pd.read_sql(query_6_5, connection)\n"
     ]
    },
    {
     "name": "stdout",
     "output_type": "stream",
     "text": [
      "   avg_key_skills  total_vacancies\n",
      "0            6.41              352\n"
     ]
    }
   ],
   "source": [
    "# результат запроса\n",
    "df = pd.read_sql(query_6_5, connection)\n",
    "\n",
    "# Выводим результат \n",
    "print(df)"
   ]
  },
  {
   "cell_type": "code",
   "execution_count": null,
   "id": "e593ec0a-5c7f-4902-b7e7-b24ad5fc6c81",
   "metadata": {
    "id": "1041c17a-ca8f-4543-a0ca-32778914fb00"
   },
   "outputs": [],
   "source": [
    "6. Напишите запрос, позволяющий вычислить, какую зарплату для DS в среднем указывают для каждого типа требуемого опыта (уникальное значение из поля `experience`).\n",
    "\n",
    "    При решении задачи примите во внимание следующее:\n",
    "    1. Рассматриваем только вакансии, у которых заполнено хотя бы одно из двух полей с зарплатой.\n",
    "    2. Если заполнены оба поля с зарплатой, то считаем зарплату по каждой вакансии как сумму двух полей, делённую на 2. Если заполнено только одно из полей, то его и считаем зарплатой по вакансии.\n",
    "    3. Если в расчётах участвует `null`, в результате он тоже даст `null` (посмотрите, что возвращает запрос `select 1 + null`). Чтобы избежать этой ситуацию, мы воспользуемся функцией [coalesce](https://postgrespro.ru/docs/postgresql/9.5/functions-conditional#functions-coalesce-nvl-ifnull), которая заменит `null` на значение, которое мы передадим. Например, посмотрите, что возвращает запрос `select 1 + coalesce(null, 0)`\n",
    "\n",
    "    Выясните, на какую зарплату в среднем может рассчитывать дата-сайентист с опытом работы от 3 до 6 лет. Результат округлите до **целого числа**."
   ]
  },
  {
   "cell_type": "code",
   "execution_count": 132,
   "id": "6a743d39-5204-48d3-8271-b9f88e68d40e",
   "metadata": {
    "id": "6a743d39-5204-48d3-8271-b9f88e68d40e"
   },
   "outputs": [],
   "source": [
    "# текст запроса\n",
    "query_6_6 = f'''\n",
    "SELECT \n",
    "    experience,\n",
    "    ROUND(AVG(\n",
    "        CASE \n",
    "            WHEN salary_from IS NOT NULL AND salary_to IS NOT NULL \n",
    "                THEN (salary_from + salary_to) / 2\n",
    "            ELSE COALESCE(salary_from, salary_to)\n",
    "        END\n",
    "    )) AS avg_salary\n",
    "FROM vacancies\n",
    "WHERE (\n",
    "    LOWER(name) LIKE '%data scientist%' OR \n",
    "    LOWER(name) LIKE '%data science%' OR \n",
    "    LOWER(name) LIKE '%исследователь данных%' OR \n",
    "    (LOWER(name) LIKE '%ml%' AND LOWER(name) NOT LIKE '%html%') OR\n",
    "    LOWER(name) LIKE '%machine learning%' OR \n",
    "    LOWER(name) LIKE '%машинн%обучен%'\n",
    ") \n",
    "AND (salary_from IS NOT NULL OR salary_to IS NOT NULL)\n",
    "GROUP BY experience\n",
    "ORDER BY avg_salary DESC;\n",
    "\n",
    "'''"
   ]
  },
  {
   "cell_type": "code",
   "execution_count": 133,
   "id": "aRIJ0mZEwU1_",
   "metadata": {
    "id": "aRIJ0mZEwU1_"
   },
   "outputs": [
    {
     "name": "stderr",
     "output_type": "stream",
     "text": [
      "C:\\Users\\User\\AppData\\Local\\Temp\\ipykernel_15284\\3936791844.py:2: UserWarning: pandas only supports SQLAlchemy connectable (engine/connection) or database string URI or sqlite3 DBAPI2 connection. Other DBAPI2 objects are not tested. Please consider using SQLAlchemy.\n",
      "  df = pd.read_sql(query_6_6, connection)\n"
     ]
    },
    {
     "name": "stdout",
     "output_type": "stream",
     "text": [
      "           experience  avg_salary\n",
      "0       От 3 до 6 лет    256454.0\n",
      "1         Более 6 лет    157933.0\n",
      "2  От 1 года до 3 лет    144233.0\n",
      "3           Нет опыта     74643.0\n"
     ]
    }
   ],
   "source": [
    "# результат запроса\n",
    "df = pd.read_sql(query_6_6, connection)\n",
    "\n",
    "# Выводим результат \n",
    "print(df)"
   ]
  },
  {
   "cell_type": "markdown",
   "id": "6a7892b4-4113-4746-adce-18aa2844f18e",
   "metadata": {
    "id": "6a7892b4-4113-4746-adce-18aa2844f18e"
   },
   "source": [
    "***"
   ]
  },
  {
   "cell_type": "markdown",
   "id": "2f929089-28a2-486f-ab8d-af2cd04f1dd5",
   "metadata": {
    "id": "UjLWUptVwY1o"
   },
   "source": [
    "# выводы по предметному анализу\n",
    "Анализ вакансий, связанных с Data Science, показал следующие результаты:\n",
    "\n",
    "Всего 1771 вакансия имеет отношение к данным, что говорит о значительном спросе на специалистов в этой области.\n",
    "Для начинающих дата-сайентистов (Junior, стажировка, без опыта) доступно 51 вакансия, что свидетельствует о высокой конкуренции на старте карьеры.\n",
    "SQL или Postgres как ключевые навыки требуются в 229 вакансиях для DS, подчёркивая важность работы с базами данных.\n",
    "Python остаётся самым популярным языком программирования среди требований работодателей: его указывают в 357 вакансиях.\n",
    "В среднем в вакансиях для DS указывают 6.41 ключевых навыка, что говорит о многопрофильности профессии.\n",
    "Средняя зарплата для специалистов в Data Science составляет 256454, что подтверждает высокую востребованность и уровень оплаты труда в этой сфере.\n",
    "Таким образом, рынок вакансий в Data Science активно развивается, но начинающим специалистам может быть сложнее найти работу из-за высокой конкуренции и требований к навыкам."
   ]
  },
  {
   "cell_type": "markdown",
   "id": "c0ED6fh7wiBT",
   "metadata": {
    "id": "c0ED6fh7wiBT"
   },
   "source": [
    "## Общий вывод по проекту"
   ]
  },
  {
   "cell_type": "markdown",
   "id": "3060100a-45ce-4dc4-acc0-12b2aab96d85",
   "metadata": {
    "id": "h9B3BL-wwj18"
   },
   "source": [
    "# подведем итог исследования, обобщите выводы\n",
    "Анализ вакансий в сфере данных и IT показал несколько ключевых тенденций:\n",
    "\n",
    "1. Высокий спрос на специалистов по данным\n",
    "\n",
    "2. Всего 1771 вакансия относится к данным, из них 3553 работодателя указывают сферу «Разработка ПО».\n",
    "Data Science остаётся перспективным направлением, но для новичков (Junior, стажировки, без опыта) доступно всего 51 вакансия, что говорит о высокой конкуренции.\n",
    "Ключевые навыки и технологии\n",
    "\n",
    "3. SQL/Postgres востребованы в 229 вакансиях DS, а Python в 357, подтверждая их важность для аналитиков и разработчиков.\n",
    "В среднем в вакансиях указывают 6.41 ключевых навыка, что показывает многопрофильность профессии.\n",
    "Зарплатные ожидания\n",
    "\n",
    "4. Средняя зарплата в Data Science составляет 256 454 руб., а специалисты с опытом от 3 до 6 лет могут рассчитывать на ещё более высокие предложения.\n",
    "Крупнейшие работодатели и регионы\n",
    "\n",
    "5. Лидерами по количеству вакансий являются Яндекс (1933 вакансии) и Газпром нефть (331 вакансия).\n",
    "Больше всего предложений в Москве (5333 вакансии, 2320 работодателей) и Санкт-Петербурге (2851 вакансия, 1451 работодатель)."
   ]
  },
  {
   "cell_type": "code",
   "execution_count": 137,
   "id": "0556b359-5655-4d64-bee8-c931cde7c73c",
   "metadata": {},
   "outputs": [
    {
     "name": "stderr",
     "output_type": "stream",
     "text": [
      "C:\\Users\\User\\AppData\\Local\\Temp\\ipykernel_15284\\1009088717.py:11: FutureWarning: \n",
      "\n",
      "Passing `palette` without assigning `hue` is deprecated and will be removed in v0.14.0. Assign the `y` variable to `hue` and set `legend=False` for the same effect.\n",
      "\n",
      "  sns.barplot(x=list(cities.values()), y=list(cities.keys()), palette=\"Blues_r\")\n"
     ]
    },
    {
     "data": {
      "image/png": "[encoded data removed]",
      "text/plain": [
       "<Figure size 800x500 with 1 Axes>"
      ]
     },
     "metadata": {},
     "output_type": "display_data"
    },
    {
     "name": "stderr",
     "output_type": "stream",
     "text": [
      "C:\\Users\\User\\AppData\\Local\\Temp\\ipykernel_15284\\1009088717.py:19: FutureWarning: \n",
      "\n",
      "Passing `palette` without assigning `hue` is deprecated and will be removed in v0.14.0. Assign the `x` variable to `hue` and set `legend=False` for the same effect.\n",
      "\n",
      "  sns.barplot(x=list(skills.keys()), y=list(skills.values()), palette=\"Oranges_r\")\n"
     ]
    },
    {
     "data": {
      "image/png": "[encoded data removed]",
      "text/plain": [
       "<Figure size 600x400 with 1 Axes>"
      ]
     },
     "metadata": {},
     "output_type": "display_data"
    },
    {
     "name": "stderr",
     "output_type": "stream",
     "text": [
      "C:\\Users\\User\\AppData\\Local\\Temp\\ipykernel_15284\\1009088717.py:27: FutureWarning: \n",
      "\n",
      "Passing `palette` without assigning `hue` is deprecated and will be removed in v0.14.0. Assign the `x` variable to `hue` and set `legend=False` for the same effect.\n",
      "\n",
      "  sns.barplot(x=list(experience_salary.keys()), y=list(experience_salary.values()), palette=\"Greens_r\")\n"
     ]
    },
    {
     "data": {
      "image/png": "[encoded data removed]",
      "text/plain": [
       "<Figure size 700x400 with 1 Axes>"
      ]
     },
     "metadata": {},
     "output_type": "display_data"
    }
   ],
   "source": [
    "# дополнительная визуализция\n",
    "import matplotlib.pyplot as plt\n",
    "import seaborn as sns\n",
    "import pandas as pd\n",
    "\n",
    "# Настройки стиля\n",
    "sns.set_theme(style=\"whitegrid\")\n",
    "\n",
    "# Вакансии по городам\n",
    "plt.figure(figsize=(8, 5))\n",
    "sns.barplot(x=list(cities.values()), y=list(cities.keys()), palette=\"Blues_r\")\n",
    "plt.xlabel(\"Количество вакансий\")\n",
    "plt.ylabel(\"Город\")\n",
    "plt.title(\"Распределение вакансий по городам\")\n",
    "plt.show()\n",
    "\n",
    "# Популярность ключевых навыков\n",
    "plt.figure(figsize=(6, 4))\n",
    "sns.barplot(x=list(skills.keys()), y=list(skills.values()), palette=\"Oranges_r\")\n",
    "plt.xlabel(\"Навык\")\n",
    "plt.ylabel(\"Количество вакансий\")\n",
    "plt.title(\"Популярность навыков в DS-вакансиях\")\n",
    "plt.show()\n",
    "\n",
    "# Средняя зарплата по опыту\n",
    "plt.figure(figsize=(7, 4))\n",
    "sns.barplot(x=list(experience_salary.keys()), y=list(experience_salary.values()), palette=\"Greens_r\")\n",
    "plt.xlabel(\"Опыт работы\")\n",
    "plt.ylabel(\"Средняя зарплата, руб.\")\n",
    "plt.title(\"Средняя зарплата Data Scientist в зависимости от опыта\")\n",
    "plt.show()"
   ]
  },
  {
   "cell_type": "markdown",
   "id": "6bd4b30b-ee45-43fd-95a8-52d1fbc28500",
   "metadata": {},
   "source": [
    "Направления для дальнейших исследований по рынку вакансий Data Science:\n",
    "\n",
    "️1. Анализ зарплат\n",
    "\n",
    "    1.1. Сравнение зарплат между городами\n",
    "    В каких городах средняя зарплата DS выше? Разница зарплат в Москве, Санкт-Петербурге и других крупных городах.\n",
    "\n",
    "    1.2. Связь между зарплатой и навыками\n",
    "    Влияет ли наличие Python, SQL, ML в требованиях на размер зарплаты? Какие ключевые навыки чаще встречаются в высокооплачиваемых вакансиях?\n",
    "\n",
    "    1.3. Разница в зарплатах по типу компаний\n",
    "    Кто платит больше: стартапы или корпорации? Как отличаются зарплаты в IT-компаниях и компаниях из других отраслей?\n",
    "\n",
    "2. Анализ требований к кандидатам\n",
    "\n",
    "    2.1. Какие навыки чаще всего требуют? Построить рейтинг наиболее востребованных навыков в DS-вакансиях. Определить, какие навыки наиболее важны для Junior/Middle/Senior специалистов.\n",
    "    \n",
    "    2.2. Как изменяются требования к DS по уровням опыта? Какие навыки чаще указываются для Junior-DS по сравнению с Senior? Есть ли разница в требованиях между вакансиями в разных городах?\n",
    "\n",
    "    2.3. Как часто работодатели требуют опыт работы? Как много вакансий готовы взять специалистов \"без опыта\"? Как часто встречаются стажировки для DS?\n",
    "\n",
    "3. Географический анализ\n",
    "\n",
    "    3.1. Где больше всего вакансий по DS? В каких регионах наблюдается наибольший спрос на Data Scientists? Есть ли перспективные регионы, где DS-специалистов мало, но спрос растёт?\n",
    "    3.2. Связь количества вакансий с населением города? Как коррелирует количество вакансий с численностью населения? Достаточно ли вакансий для миллионников?\n",
    "    3.3 Удалённая работа. Какой процент вакансий предлагают удалённую работу? В каких городах чаще встречаются офлайн-офисы?\n",
    "\n",
    "4. Тренды и динамика рынка\n",
    "\n",
    "    4.1. Как меняется спрос на DS-специалистов? Если есть данные за прошлые годы, можно изучить, растёт или падает количество вакансий. Какие навыки становятся более востребованными со временем?\n",
    "    4.2. Влияние макроэкономических факторов. Как кризисы или новые технологии (например, развитие AI) влияют на спрос на DS? Какие отрасли наиболее активно нанимают DS сейчас?\n",
    "    4.3. Связь между количеством вакансий и количеством резюме Есть ли \"конкуренция\" среди соискателей? В каких городах/отраслях больше кандидатов, чем вакансий?\n",
    "\n",
    "Как это реализовать?\n",
    "1. Построить графики (barplot, scatterplot, heatmap).\n",
    "2. Использовать SQL-запросы для детального анализа данных.\n",
    "3. Попробовать машинное обучение для предсказания зарплат по навыкам."
   ]
  },
  {
   "cell_type": "code",
   "execution_count": 138,
   "id": "89dc8528-1ae8-47c2-9598-86a8688e912f",
   "metadata": {},
   "outputs": [],
   "source": [
    "connection.close()"
   ]
  }
 ],
 "metadata": {
  "colab": {
   "collapsed_sections": [
    "8d62a9f3-f64e-4fe7-bdac-c4dffa16155e"
   ],
   "provenance": []
  },
  "kernelspec": {
   "display_name": "Python 3 (ipykernel)",
   "language": "python",
   "name": "python3"
  },
  "language_info": {
   "codemirror_mode": {
    "name": "ipython",
    "version": 3
   },
   "file_extension": ".py",
   "mimetype": "text/x-python",
   "name": "python",
   "nbconvert_exporter": "python",
   "pygments_lexer": "ipython3",
   "version": "3.12.7"
  }
 },
 "nbformat": 4,
 "nbformat_minor": 5
}
